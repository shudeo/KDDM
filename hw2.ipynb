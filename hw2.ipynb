{
 "cells": [
  {
   "cell_type": "markdown",
   "metadata": {},
   "source": [
    "# ASSIGNMENT 2\n",
    "\n",
    "#### CS 513 B\n",
    "#### Shubhankar Deol\n",
    "#### 20013072"
   ]
  },
  {
   "cell_type": "code",
   "execution_count": 1,
   "metadata": {},
   "outputs": [],
   "source": [
    "import pandas as pd"
   ]
  },
  {
   "cell_type": "code",
   "execution_count": 3,
   "metadata": {},
   "outputs": [],
   "source": [
    "f = pd.read_csv('data/breast-cancer-wisconsin.csv')"
   ]
  },
  {
   "cell_type": "markdown",
   "metadata": {},
   "source": [
    "### Question 1.1"
   ]
  },
  {
   "cell_type": "code",
   "execution_count": 4,
   "metadata": {},
   "outputs": [
    {
     "name": "stdout",
     "output_type": "stream",
     "text": [
      "Stats for Column F1:\n",
      "Mean: 4.417739628040057\n",
      "Median: 4.0\n",
      "Mode: 0    1\n",
      "Name: F1, dtype: int64\n",
      "Standard Deviation: 2.8157406585949314\n",
      "Variance: 7.928395456464618\n",
      "Min: 1\n",
      "Max: 10\n",
      "Range: 9\n",
      "\n",
      "\n",
      "Stats for Column F2:\n",
      "Mean: 3.13447782546495\n",
      "Median: 1.0\n",
      "Mode: 0    1\n",
      "Name: F2, dtype: int64\n",
      "Standard Deviation: 3.051459109954201\n",
      "Variance: 9.311402699722485\n",
      "Min: 1\n",
      "Max: 10\n",
      "Range: 9\n",
      "\n",
      "\n",
      "Stats for Column F3:\n",
      "Mean: 3.207439198855508\n",
      "Median: 1.0\n",
      "Mode: 0    1\n",
      "Name: F3, dtype: int64\n",
      "Standard Deviation: 2.9719127672157133\n",
      "Variance: 8.832265495939758\n",
      "Min: 1\n",
      "Max: 10\n",
      "Range: 9\n",
      "\n",
      "\n",
      "Stats for Column F4:\n",
      "Mean: 2.8068669527896994\n",
      "Median: 1.0\n",
      "Mode: 0    1\n",
      "Name: F4, dtype: int64\n",
      "Standard Deviation: 2.855379239217024\n",
      "Variance: 8.153190599751591\n",
      "Min: 1\n",
      "Max: 10\n",
      "Range: 9\n",
      "\n",
      "\n",
      "Stats for Column F5:\n",
      "Mean: 3.216022889842632\n",
      "Median: 2.0\n",
      "Mode: 0    2\n",
      "Name: F5, dtype: int64\n",
      "Standard Deviation: 2.214299886649048\n",
      "Variance: 4.903123988013986\n",
      "Min: 1\n",
      "Max: 10\n",
      "Range: 9\n",
      "\n",
      "\n",
      "Stats for Column F6:\n",
      "Mean: 3.5446559297218156\n",
      "Median: 1.0\n",
      "Mode: 0    1.0\n",
      "Name: F6, dtype: float64\n",
      "Standard Deviation: 3.643857160492915\n",
      "Variance: 13.27769500607549\n",
      "Min: 1.0\n",
      "Max: 10.0\n",
      "Range: 9.0\n",
      "\n",
      "\n",
      "Stats for Column F7:\n",
      "Mean: 3.4377682403433476\n",
      "Median: 3.0\n",
      "Mode: 0    2\n",
      "Name: F7, dtype: int64\n",
      "Standard Deviation: 2.438364252324251\n",
      "Variance: 5.945620227012802\n",
      "Min: 1\n",
      "Max: 10\n",
      "Range: 9\n",
      "\n",
      "\n",
      "Stats for Column F8:\n",
      "Mean: 2.866952789699571\n",
      "Median: 1.0\n",
      "Mode: 0    1\n",
      "Name: F8, dtype: int64\n",
      "Standard Deviation: 3.053633893612775\n",
      "Variance: 9.324679956220717\n",
      "Min: 1\n",
      "Max: 10\n",
      "Range: 9\n",
      "\n",
      "\n",
      "Stats for Column F9:\n",
      "Mean: 1.5894134477825466\n",
      "Median: 1.0\n",
      "Mode: 0    1\n",
      "Name: F9, dtype: int64\n",
      "Standard Deviation: 1.7150779425067944\n",
      "Variance: 2.941492348873339\n",
      "Min: 1\n",
      "Max: 10\n",
      "Range: 9\n",
      "\n",
      "\n"
     ]
    }
   ],
   "source": [
    "for i in range(1, 10):\n",
    "    X = 'F' + str(i)\n",
    "    f[X] = pd.to_numeric(f[X], errors='coerce')\n",
    "    print('Stats for Column ' + X + ':')\n",
    "    print('Mean: ' + str(f[X].mean()))\n",
    "    print('Median: ' + str(f[X].median()))\n",
    "    print('Mode: ' + str(f[X].mode()))\n",
    "    print('Standard Deviation: ' + str(f[X].std()))\n",
    "    print('Variance: ' + str(f[X].var()))\n",
    "    print('Min: ' + str(f[X].min()))\n",
    "    print('Max: ' + str(f[X].max()))\n",
    "    print('Range: ' + str(f[X].max() - f[X].min()))\n",
    "    print('\\n')"
   ]
  },
  {
   "cell_type": "markdown",
   "metadata": {},
   "source": [
    "### Question 1.2"
   ]
  },
  {
   "cell_type": "code",
   "execution_count": 11,
   "metadata": {},
   "outputs": [
    {
     "name": "stdout",
     "output_type": "stream",
     "text": [
      "Sample    699\n",
      "F1        699\n",
      "F2        699\n",
      "F3        699\n",
      "F4        699\n",
      "F5        699\n",
      "F6        699\n",
      "F7        699\n",
      "F8        699\n",
      "F9        699\n",
      "Class     699\n",
      "dtype: int64\n"
     ]
    }
   ],
   "source": []
  },
  {
   "cell_type": "markdown",
   "metadata": {},
   "source": [
    "### Question 1.3"
   ]
  },
  {
   "cell_type": "code",
   "execution_count": null,
   "metadata": {},
   "outputs": [],
   "source": []
  }
 ],
 "metadata": {
  "kernelspec": {
   "display_name": "py800",
   "language": "python",
   "name": "python3"
  },
  "language_info": {
   "codemirror_mode": {
    "name": "ipython",
    "version": 3
   },
   "file_extension": ".py",
   "mimetype": "text/x-python",
   "name": "python",
   "nbconvert_exporter": "python",
   "pygments_lexer": "ipython3",
   "version": "3.8.18"
  },
  "orig_nbformat": 4
 },
 "nbformat": 4,
 "nbformat_minor": 2
}
